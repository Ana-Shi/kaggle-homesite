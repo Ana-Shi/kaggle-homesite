{
 "cells": [
  {
   "cell_type": "code",
   "execution_count": 1,
   "metadata": {
    "collapsed": false
   },
   "outputs": [
    {
     "name": "stderr",
     "output_type": "stream",
     "text": [
      "/Users/sermakarevich/anaconda/lib/python2.7/site-packages/matplotlib/__init__.py:872: UserWarning: axes.color_cycle is deprecated and replaced with axes.prop_cycle; please use the latter.\n",
      "  warnings.warn(self.msg_depr % (key, alt_key))\n"
     ]
    }
   ],
   "source": [
    "import pandas as pd\n",
    "%matplotlib inline\n",
    "from matplotlib import pyplot as plt\n",
    "import seaborn, gc\n",
    "import numpy as np\n",
    "from sklearn import cross_validation, linear_model, metrics, ensemble, preprocessing, svm, naive_bayes \n",
    "from sklearn import neighbors, feature_selection \n",
    "from sklearn import grid_search\n",
    "import xgboost as xgb\n",
    "from scipy import stats"
   ]
  },
  {
   "cell_type": "code",
   "execution_count": 8,
   "metadata": {
    "collapsed": false
   },
   "outputs": [],
   "source": [
    "def fix_field10(df):\n",
    "    df[\"Field10\"] = df[\"Field10\"].apply(lambda x: x.replace(\",\", \"\")).astype(int)\n",
    "    \n",
    "    return df\n",
    "\n",
    "def get_lovvar_cols(df, threshold):\n",
    "    selector = feature_selection.VarianceThreshold(threshold=threshold)\n",
    "    selector.fit(df)\n",
    "    \n",
    "    cols = df.columns[~selector.get_support()]\n",
    "    cols = [col for col in cols if col not in [\"Field9\", \"Field8\", 'Field11', 'Field12']]\n",
    "    \n",
    "    return cols\n",
    "\n",
    "def count_less_0(df):\n",
    "    df[\"Below0\"] = np.sum(df<0, axis = 1)\n",
    "    \n",
    "    return df"
   ]
  },
  {
   "cell_type": "code",
   "execution_count": 9,
   "metadata": {
    "collapsed": false
   },
   "outputs": [],
   "source": [
    "train = pd.read_csv(\"/Users/sermakarevich/data/homesite/train.csv\")\n",
    "test = pd.read_csv(\"/Users/sermakarevich/data/homesite/test.csv\")\n",
    "test.index = test[\"QuoteNumber\"]\n",
    "test[\"QuoteConversion_Flag\"] = 1\n",
    "train.index = train[\"QuoteNumber\"]\n",
    "y = train[\"QuoteConversion_Flag\"]\n",
    "df = pd.concat([train, test], axis = 0)\n",
    "df_ind = df.index\n",
    "\n",
    "df = df.replace(' ', np.nan, regex=True)\n",
    "\n",
    "golden_feature=[(\"CoverageField1B\",\"PropertyField21B\"),\n",
    "                (\"GeographicField6A\",\"GeographicField8A\"),\n",
    "                (\"GeographicField6A\",\"GeographicField13A\"),\n",
    "                (\"GeographicField8A\",\"GeographicField13A\"),\n",
    "                (\"GeographicField11A\",\"GeographicField13A\"),\n",
    "                (\"GeographicField8A\",\"GeographicField11A\"),\n",
    "                (\"CoverageField1A\", \"PropertyField21A\"),\n",
    "                (\"CoverageField2B\", \"PropertyField21B\")]\n",
    "\n",
    "df = df.fillna(-1)\n",
    "df = fix_field10(df)\n",
    "\n",
    "df[\"Date\"] = pd.to_datetime(df[\"Original_Quote_Date\"])\n",
    "df['DayOfWeek'] = df[\"Date\"].map(lambda x: x.dayofweek)\n",
    "df['Year'] = df[\"Date\"].map(lambda x: x.year)\n",
    "df['Month'] = df[\"Date\"].map(lambda x: x.month)\n",
    "df[\"Season\"] = df[\"Date\"].map(lambda x: x.quarter)\n",
    "del df[\"Date\"], df[\"QuoteNumber\"], df[\"Original_Quote_Date\"], df[\"QuoteConversion_Flag\"]\n",
    "\n",
    "df = count_less_0(df)\n",
    "\n",
    "for featureA,featureB in golden_feature:\n",
    "    df[\"_\".join([featureA,featureB,\"diff\"])]= df[featureA] - df[featureB]\n",
    "\n",
    "for i in df.dtypes[df.dtypes==object].index:\n",
    "    one_hot = pd.DataFrame(pd.get_dummies(df[i], prefix=i), index = df.index)\n",
    "    df = pd.concat([df, one_hot], axis = 1)\n",
    "    del df[i]\n",
    "\n",
    "df.index.name = \"QuoteNumber\"\n",
    "\n",
    "train = df.ix[train.index].copy()\n",
    "test = df.ix[test.index].copy()"
   ]
  },
  {
   "cell_type": "code",
   "execution_count": null,
   "metadata": {
    "collapsed": true
   },
   "outputs": [],
   "source": [
    "filt_cols = [\"Original_Quote_Date\", \"QuoteConversion_Flag\", \"QuoteNumber\", \"Date\", \"MonthDay\"] + \\\n",
    "    get_lovvar_cols(train, 0.0001)\n",
    "cols = [col for col in train.columns if col not in filt_cols]\n",
    "\n",
    "skf = cross_validation.StratifiedKFold(y, n_folds=10, random_state=0, shuffle=True)\n",
    "\n",
    "predictions_test_list = []\n",
    "predictions_train_list = []\n",
    "auc = []\n",
    "\n",
    "dtest_real = xgb.DMatrix(test[cols])\n",
    "\n",
    "for train_index, test_index in skf:\n",
    "    dtrain = xgb.DMatrix(train.iloc[train_index][cols], \n",
    "             y.iloc[train_index])\n",
    "    dtest = xgb.DMatrix(train.iloc[test_index][cols], \n",
    "                        y.iloc[test_index])\n",
    "    \n",
    "    watchlist = [(dtest, 'test'), (dtrain, 'train')]\n",
    "\n",
    "    params = {}\n",
    "    params[\"objective\"] = \"binary:logistic\"\n",
    "    params[\"eta\"] = 0.02\n",
    "    params[\"subsample\"] = 0.8\n",
    "    params[\"colsample_bytree\"] = 0.6\n",
    "    params[\"max_depth\"] = 6\n",
    "    params[\"eval_metric\"] = \"auc\"\n",
    "    params[\"nthread\"] = 4\n",
    "    params[\"min_child_weight\"] = 4\n",
    "\n",
    "    plst = list(params.items())\n",
    "    num_rounds = 3000\n",
    "    \n",
    "    gbm = xgb.train(plst, dtrain, num_rounds, evals=watchlist, early_stopping_rounds=30)\n",
    "    prediction = gbm.predict(dtest)\n",
    "    result = metrics.roc_auc_score(y.ix[train.index[test_index]], prediction)\n",
    "    print result\n",
    "    auc.append(result)\n",
    "    \n",
    "    prediction = pd.Series(prediction, index = train.index[test_index])\n",
    "    predictions_train_list.append(prediction)\n",
    "    \n",
    "    prediction = pd.Series(gbm.predict(dtest_real), index = test.index)\n",
    "    predictions_test_list.append(prediction)\n",
    "\n",
    "num_rounds = 3400    \n",
    "dtrain = xgb.DMatrix(train.loc[:, cols], y.ix[train.index])\n",
    "gbm = xgb.train(plst, dtrain, num_rounds)\n",
    "prediction = pd.Series(gbm.predict(dtest_real), index = test.index)\n",
    "predictions_test_list.append(prediction)\n",
    "\n",
    "prediction = np.mean(pd.concat(predictions_test_list, axis = 1), axis = 1)\n",
    "prediction.name = \"QuoteConversion_Flag\"\n",
    "prediction = pd.DataFrame(prediction)\n",
    "prediction.to_csv(\\\n",
    "\"/Users/sermakarevich/Dropbox/Machine_learning/Kaggle/homesite/predictions/xgboost_logbin_3000.csv\")\n",
    "\n",
    "prediction = pd.concat(predictions_train_list, axis = 0)\n",
    "prediction.name = \"xgboost\"\n",
    "prediction = pd.DataFrame(prediction)\n",
    "prediction.to_csv(\\\n",
    "\"/Users/sermakarevich/Dropbox/Machine_learning/Kaggle/homesite/validation_pred/xgboost_validation_3000.csv\")"
   ]
  },
  {
   "cell_type": "code",
   "execution_count": 11,
   "metadata": {
    "collapsed": false
   },
   "outputs": [
    {
     "name": "stdout",
     "output_type": "stream",
     "text": [
      "[0.96770087975294095, 0.97001840934814965, 0.96718125389359832, 0.96694673547778298, 0.96911860561136165, 0.96763167331274635, 0.96594224696793307, 0.9678801325612878, 0.96730752257368358, 0.96786600216570906] 0.967759346167\n"
     ]
    }
   ],
   "source": [
    "print auc, np.mean(auc)"
   ]
  }
 ],
 "metadata": {
  "kernelspec": {
   "display_name": "Python 2",
   "language": "python",
   "name": "python2"
  },
  "language_info": {
   "codemirror_mode": {
    "name": "ipython",
    "version": 2
   },
   "file_extension": ".py",
   "mimetype": "text/x-python",
   "name": "python",
   "nbconvert_exporter": "python",
   "pygments_lexer": "ipython2",
   "version": "2.7.11"
  }
 },
 "nbformat": 4,
 "nbformat_minor": 0
}
